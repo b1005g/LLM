{
 "cells": [
  {
   "cell_type": "code",
   "execution_count": 7,
   "id": "9fbdfb00-dc94-42de-b83f-c8c9d90e74d2",
   "metadata": {},
   "outputs": [],
   "source": [
    "#!pip install nsfw-detector"
   ]
  },
  {
   "cell_type": "code",
   "execution_count": 17,
   "id": "411caf09-5c4e-4235-be64-b9d682e3ce52",
   "metadata": {},
   "outputs": [],
   "source": [
    "#!pip show tensorflow\n",
    "#!pip show tensorflow-hub"
   ]
  },
  {
   "cell_type": "code",
   "execution_count": 8,
   "id": "5d970fec-eba7-4df3-97bb-a7bf29a2f99e",
   "metadata": {},
   "outputs": [],
   "source": [
    "#!pip install --upgrade tensorflow-hub"
   ]
  },
  {
   "cell_type": "code",
   "execution_count": 12,
   "id": "9ee070e4-3dea-4543-b053-85ecebeac587",
   "metadata": {},
   "outputs": [],
   "source": [
    "#!pip install opencv-python"
   ]
  },
  {
   "cell_type": "code",
   "execution_count": 18,
   "id": "e943aaad-577b-424e-b28e-7d3265f595fa",
   "metadata": {
    "scrolled": true
   },
   "outputs": [
    {
     "name": "stderr",
     "output_type": "stream",
     "text": [
      "C:\\Users\\b1005\\anaconda3\\envs\\langchain\\Lib\\site-packages\\tqdm\\auto.py:21: TqdmWarning: IProgress not found. Please update jupyter and ipywidgets. See https://ipywidgets.readthedocs.io/en/stable/user_install.html\n",
      "  from .autonotebook import tqdm as notebook_tqdm\n",
      "C:\\Users\\b1005\\anaconda3\\envs\\langchain\\Lib\\site-packages\\huggingface_hub\\file_download.py:140: UserWarning: `huggingface_hub` cache-system uses symlinks by default to efficiently store duplicated files but your machine does not support them in C:\\Users\\b1005\\.cache\\huggingface\\hub\\models--Falconsai--nsfw_image_detection. Caching files will still work but in a degraded version that might require more space on your disk. This warning can be disabled by setting the `HF_HUB_DISABLE_SYMLINKS_WARNING` environment variable. For more details, see https://huggingface.co/docs/huggingface_hub/how-to-cache#limitations.\n",
      "To support symlinks on Windows, you either need to activate Developer Mode or to run Python as an administrator. In order to activate developer mode, see this article: https://docs.microsoft.com/en-us/windows/apps/get-started/enable-your-device-for-development\n",
      "  warnings.warn(message)\n",
      "Using a slow image processor as `use_fast` is unset and a slow processor was saved with this model. `use_fast=True` will be the default behavior in v4.48, even if the model was saved with a slow processor. This will result in minor differences in outputs. You'll still be able to use a slow processor with `use_fast=False`.\n"
     ]
    }
   ],
   "source": [
    "# Load model directly\n",
    "from transformers import AutoImageProcessor, AutoModelForImageClassification\n",
    "\n",
    "processor = AutoImageProcessor.from_pretrained(\"Falconsai/nsfw_image_detection\")\n",
    "model = AutoModelForImageClassification.from_pretrained(\"Falconsai/nsfw_image_detection\")"
   ]
  },
  {
   "cell_type": "code",
   "execution_count": 21,
   "id": "16026fd1-e673-4d7d-9536-1f93e8ee3628",
   "metadata": {},
   "outputs": [],
   "source": [
    "save_directory = \"./nsfw_model\"\n",
    "\n",
    "# 모델과 프로세서 저장\n",
    "processor.save_pretrained(save_directory)\n",
    "model.save_pretrained(save_directory)"
   ]
  },
  {
   "cell_type": "code",
   "execution_count": null,
   "id": "d559cdf1-979b-4769-85b6-8eea383135c5",
   "metadata": {},
   "outputs": [],
   "source": [
    "load_directory = \"./nsfw_model\"\n",
    "# 모델과 프로세서 불러오기\n",
    "processor = AutoImageProcessor.from_pretrained(load_directory)\n",
    "model = AutoModelForImageClassification.from_pretrained(load_directory)"
   ]
  },
  {
   "cell_type": "code",
   "execution_count": 20,
   "id": "1f7a5e38-7724-4627-b0cf-4b42b1e347fa",
   "metadata": {},
   "outputs": [
    {
     "name": "stderr",
     "output_type": "stream",
     "text": [
      "Device set to use cuda:0\n"
     ]
    },
    {
     "data": {
      "text/plain": [
       "[{'label': 'nsfw', 'score': 0.9793804287910461},\n",
       " {'label': 'normal', 'score': 0.021165501326322556}]"
      ]
     },
     "execution_count": 20,
     "metadata": {},
     "output_type": "execute_result"
    }
   ],
   "source": [
    "from PIL import Image\n",
    "from transformers import pipeline\n",
    "\n",
    "img = Image.open(\"미타니아카리사진집.jpg\")\n",
    "classifier = pipeline(\"image-classification\", model=\"Falconsai/nsfw_image_detection\")\n",
    "classifier(img)"
   ]
  },
  {
   "cell_type": "code",
   "execution_count": null,
   "id": "e417a96b-8b2e-4160-a538-f9fdf0ff67e1",
   "metadata": {},
   "outputs": [],
   "source": [
    "import torch\n",
    "from PIL import Image\n",
    "from transformers import AutoModelForImageClassification, ViTImageProcessor\n",
    "\n",
    "img = Image.open(\"미타니아카리사진집.jpg\")\n",
    "model = AutoModelForImageClassification.from_pretrained(\"Falconsai/nsfw_image_detection\")\n",
    "processor = ViTImageProcessor.from_pretrained('Falconsai/nsfw_image_detection')\n",
    "with torch.no_grad():\n",
    "    inputs = processor(images=img, return_tensors=\"pt\")\n",
    "    outputs = model(**inputs)\n",
    "    logits = outputs.logits\n",
    "predicted_label = logits.argmax(-1).item()\n",
    "model.config.id2label[predicted_label]"
   ]
  }
 ],
 "metadata": {
  "kernelspec": {
   "display_name": "Python 3 (ipykernel)",
   "language": "python",
   "name": "python3"
  },
  "language_info": {
   "codemirror_mode": {
    "name": "ipython",
    "version": 3
   },
   "file_extension": ".py",
   "mimetype": "text/x-python",
   "name": "python",
   "nbconvert_exporter": "python",
   "pygments_lexer": "ipython3",
   "version": "3.11.11"
  }
 },
 "nbformat": 4,
 "nbformat_minor": 5
}
